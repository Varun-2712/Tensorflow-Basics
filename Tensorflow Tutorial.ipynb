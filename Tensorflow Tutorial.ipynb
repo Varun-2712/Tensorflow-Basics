{
 "cells": [
  {
   "cell_type": "code",
   "execution_count": 24,
   "metadata": {},
   "outputs": [
    {
     "data": {
      "text/plain": [
       "9"
      ]
     },
     "execution_count": 24,
     "metadata": {},
     "output_type": "execute_result"
    }
   ],
   "source": [
    "import tensorflow.compat.v1 as tf\n",
    "tf.disable_v2_behavior()\n",
    "a=tf.constant(4)\n",
    "b=tf.constant(5)\n",
    "c=tf.add(a,b)\n",
    "sess=tf.Session()\n",
    "sess.run(c)\n",
    "    "
   ]
  },
  {
   "cell_type": "code",
   "execution_count": 34,
   "metadata": {},
   "outputs": [
    {
     "data": {
      "text/plain": [
       "1003"
      ]
     },
     "execution_count": 34,
     "metadata": {},
     "output_type": "execute_result"
    }
   ],
   "source": [
    "# tensorflow variables\n",
    "var1=tf.Variable(100)\n",
    "var2=tf.Variable(3)\n",
    "sum1=var1+var2\n",
    "sess.run(tf.global_variables_initializer())\n",
    "sess.run(sum1)\n",
    "sess.run(var1.assign(1000))\n",
    "sess.run(sum1)\n"
   ]
  },
  {
   "cell_type": "code",
   "execution_count": 48,
   "metadata": {},
   "outputs": [
    {
     "data": {
      "text/plain": [
       "400"
      ]
     },
     "execution_count": 48,
     "metadata": {},
     "output_type": "execute_result"
    }
   ],
   "source": [
    "# tensorflow placeholder\n",
    "x=tf.placeholder(tf.int32)\n",
    "y=x*tf.constant(20)\n",
    "sess.run(y,feed_dict={x:20})"
   ]
  }
 ],
 "metadata": {
  "kernelspec": {
   "display_name": "Python 3",
   "language": "python",
   "name": "python3"
  },
  "language_info": {
   "codemirror_mode": {
    "name": "ipython",
    "version": 3
   },
   "file_extension": ".py",
   "mimetype": "text/x-python",
   "name": "python",
   "nbconvert_exporter": "python",
   "pygments_lexer": "ipython3",
   "version": "3.7.7"
  }
 },
 "nbformat": 4,
 "nbformat_minor": 4
}
